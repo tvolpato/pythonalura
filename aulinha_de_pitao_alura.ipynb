{
  "nbformat": 4,
  "nbformat_minor": 0,
  "metadata": {
    "colab": {
      "name": "aulinha de pitao alura.ipynb",
      "provenance": [],
      "authorship_tag": "ABX9TyPosaRuo+C59XksTUZSA1Mz",
      "include_colab_link": true
    },
    "kernelspec": {
      "name": "python3",
      "display_name": "Python 3"
    }
  },
  "cells": [
    {
      "cell_type": "markdown",
      "metadata": {
        "id": "view-in-github",
        "colab_type": "text"
      },
      "source": [
        "<a href=\"https://colab.research.google.com/github/tvolpato/pythonalura/blob/master/aulinha_de_pitao_alura.ipynb\" target=\"_parent\"><img src=\"https://colab.research.google.com/assets/colab-badge.svg\" alt=\"Open In Colab\"/></a>"
      ]
    },
    {
      "cell_type": "code",
      "metadata": {
        "id": "cbYWvzzDD8DV",
        "colab_type": "code",
        "colab": {}
      },
      "source": [
        ""
      ],
      "execution_count": null,
      "outputs": []
    },
    {
      "cell_type": "markdown",
      "metadata": {
        "id": "hdYW5m6oHYqU",
        "colab_type": "text"
      },
      "source": [
        "# Exercício Aula 01\n"
      ]
    },
    {
      "cell_type": "code",
      "metadata": {
        "id": "NpQoZGg7EJM_",
        "colab_type": "code",
        "colab": {}
      },
      "source": [
        "def saudacao():\n",
        "  nome = input('Qual o seu nome? ')\n",
        "  print(f'Olá {nome}')\n"
      ],
      "execution_count": 3,
      "outputs": []
    },
    {
      "cell_type": "code",
      "metadata": {
        "id": "zctwj_Y6EhTp",
        "colab_type": "code",
        "colab": {
          "base_uri": "https://localhost:8080/",
          "height": 51
        },
        "outputId": "e78015b2-6b7d-4bc3-938a-216199ade717"
      },
      "source": [
        "saudacao()"
      ],
      "execution_count": 4,
      "outputs": [
        {
          "output_type": "stream",
          "text": [
            "Qual o seu nome? carlinhos paraíba\n",
            "Olá carlinhos paraíba\n"
          ],
          "name": "stdout"
        }
      ]
    },
    {
      "cell_type": "code",
      "metadata": {
        "id": "YTdlLbGbEkyI",
        "colab_type": "code",
        "colab": {}
      },
      "source": [
        ""
      ],
      "execution_count": null,
      "outputs": []
    },
    {
      "cell_type": "markdown",
      "metadata": {
        "id": "GvDY3GrBHgfj",
        "colab_type": "text"
      },
      "source": [
        "# Exercício aula 02\n"
      ]
    },
    {
      "cell_type": "markdown",
      "metadata": {
        "id": "OYw9nVe3IC0L",
        "colab_type": "text"
      },
      "source": [
        "Com parâmetro!\n"
      ]
    },
    {
      "cell_type": "code",
      "metadata": {
        "id": "ogxzBRUrHkOc",
        "colab_type": "code",
        "colab": {
          "base_uri": "https://localhost:8080/",
          "height": 34
        },
        "outputId": "591d9546-3645-4388-dead-39ef15e3c0bb"
      },
      "source": [
        "idade = 18\n",
        "\n",
        "def verifica_se_pode_dirigir(idade):\n",
        "  if idade >= 18:\n",
        "    print('Pode dirigir!')\n",
        "  else:\n",
        "    print('Pode não, papai!')\n",
        "\n",
        "verifica_se_pode_dirigir(idade)"
      ],
      "execution_count": 8,
      "outputs": [
        {
          "output_type": "stream",
          "text": [
            "Pode dirigir!\n"
          ],
          "name": "stdout"
        }
      ]
    },
    {
      "cell_type": "markdown",
      "metadata": {
        "id": "H3WiyADuIIR6",
        "colab_type": "text"
      },
      "source": [
        "Sem parâmetro!"
      ]
    },
    {
      "cell_type": "code",
      "metadata": {
        "id": "YxDETwOeIJ6K",
        "colab_type": "code",
        "colab": {
          "base_uri": "https://localhost:8080/",
          "height": 51
        },
        "outputId": "dfb8b6f3-8399-40ba-8197-dfc5f5b4749e"
      },
      "source": [
        "def verifica_se_pode_dirigir_sem_parametro():\n",
        "  idade = input('Qual sua idade? ')\n",
        "  idade = int(idade)\n",
        "  if idade >= 18:\n",
        "    print('Pode dirigir!')\n",
        "  else:\n",
        "    print('Pode não, papai!')\n",
        "\n",
        "verifica_se_pode_dirigir_sem_parametro()"
      ],
      "execution_count": 11,
      "outputs": [
        {
          "output_type": "stream",
          "text": [
            "Qual sua idade? 20\n",
            "Pode dirigir!\n"
          ],
          "name": "stdout"
        }
      ]
    },
    {
      "cell_type": "code",
      "metadata": {
        "id": "TvduLHMMIgNG",
        "colab_type": "code",
        "colab": {}
      },
      "source": [
        ""
      ],
      "execution_count": null,
      "outputs": []
    }
  ]
}