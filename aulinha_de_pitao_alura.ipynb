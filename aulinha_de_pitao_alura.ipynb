{
  "nbformat": 4,
  "nbformat_minor": 0,
  "metadata": {
    "colab": {
      "name": "aulinha de pitao alura.ipynb",
      "provenance": [],
      "authorship_tag": "ABX9TyPG7KhnmXskQQjhNTzux7ip",
      "include_colab_link": true
    },
    "kernelspec": {
      "name": "python3",
      "display_name": "Python 3"
    }
  },
  "cells": [
    {
      "cell_type": "markdown",
      "metadata": {
        "id": "view-in-github",
        "colab_type": "text"
      },
      "source": [
        "<a href=\"https://colab.research.google.com/github/tvolpato/pythonalura/blob/master/aulinha_de_pitao_alura.ipynb\" target=\"_parent\"><img src=\"https://colab.research.google.com/assets/colab-badge.svg\" alt=\"Open In Colab\"/></a>"
      ]
    },
    {
      "cell_type": "code",
      "metadata": {
        "id": "cbYWvzzDD8DV",
        "colab_type": "code",
        "colab": {}
      },
      "source": [
        ""
      ],
      "execution_count": null,
      "outputs": []
    },
    {
      "cell_type": "markdown",
      "metadata": {
        "id": "hdYW5m6oHYqU",
        "colab_type": "text"
      },
      "source": [
        "# Exercício Aula 01\n"
      ]
    },
    {
      "cell_type": "code",
      "metadata": {
        "id": "NpQoZGg7EJM_",
        "colab_type": "code",
        "colab": {}
      },
      "source": [
        "def saudacao():\n",
        "  nome = input('Qual o seu nome? ')\n",
        "  print(f'Olá {nome}')\n"
      ],
      "execution_count": null,
      "outputs": []
    },
    {
      "cell_type": "code",
      "metadata": {
        "id": "zctwj_Y6EhTp",
        "colab_type": "code",
        "colab": {
          "base_uri": "https://localhost:8080/",
          "height": 51
        },
        "outputId": "e78015b2-6b7d-4bc3-938a-216199ade717"
      },
      "source": [
        "saudacao()"
      ],
      "execution_count": null,
      "outputs": [
        {
          "output_type": "stream",
          "text": [
            "Qual o seu nome? carlinhos paraíba\n",
            "Olá carlinhos paraíba\n"
          ],
          "name": "stdout"
        }
      ]
    },
    {
      "cell_type": "code",
      "metadata": {
        "id": "YTdlLbGbEkyI",
        "colab_type": "code",
        "colab": {}
      },
      "source": [
        ""
      ],
      "execution_count": null,
      "outputs": []
    },
    {
      "cell_type": "markdown",
      "metadata": {
        "id": "GvDY3GrBHgfj",
        "colab_type": "text"
      },
      "source": [
        "# Exercício aula 02\n"
      ]
    },
    {
      "cell_type": "markdown",
      "metadata": {
        "id": "OYw9nVe3IC0L",
        "colab_type": "text"
      },
      "source": [
        "## Com parâmetro!\n"
      ]
    },
    {
      "cell_type": "code",
      "metadata": {
        "id": "ogxzBRUrHkOc",
        "colab_type": "code",
        "colab": {
          "base_uri": "https://localhost:8080/",
          "height": 34
        },
        "outputId": "591d9546-3645-4388-dead-39ef15e3c0bb"
      },
      "source": [
        "idade = 18\n",
        "\n",
        "def verifica_se_pode_dirigir(idade):\n",
        "  if idade >= 18:\n",
        "    print('Pode dirigir!')\n",
        "  else:\n",
        "    print('Pode não, papai!')\n",
        "\n",
        "verifica_se_pode_dirigir(idade)"
      ],
      "execution_count": null,
      "outputs": [
        {
          "output_type": "stream",
          "text": [
            "Pode dirigir!\n"
          ],
          "name": "stdout"
        }
      ]
    },
    {
      "cell_type": "markdown",
      "metadata": {
        "id": "H3WiyADuIIR6",
        "colab_type": "text"
      },
      "source": [
        "## Sem parâmetro!"
      ]
    },
    {
      "cell_type": "code",
      "metadata": {
        "id": "YxDETwOeIJ6K",
        "colab_type": "code",
        "colab": {
          "base_uri": "https://localhost:8080/",
          "height": 51
        },
        "outputId": "dfb8b6f3-8399-40ba-8197-dfc5f5b4749e"
      },
      "source": [
        "def verifica_se_pode_dirigir_sem_parametro():\n",
        "  idade = input('Qual sua idade? ')\n",
        "  idade = int(idade)\n",
        "  if idade >= 18:\n",
        "    print('Pode dirigir!')\n",
        "  else:\n",
        "    print('Pode não, papai!')\n",
        "\n",
        "verifica_se_pode_dirigir_sem_parametro()"
      ],
      "execution_count": null,
      "outputs": [
        {
          "output_type": "stream",
          "text": [
            "Qual sua idade? 20\n",
            "Pode dirigir!\n"
          ],
          "name": "stdout"
        }
      ]
    },
    {
      "cell_type": "code",
      "metadata": {
        "id": "TvduLHMMIgNG",
        "colab_type": "code",
        "colab": {}
      },
      "source": [
        ""
      ],
      "execution_count": null,
      "outputs": []
    },
    {
      "cell_type": "markdown",
      "metadata": {
        "id": "wxYRW5APwbu6",
        "colab_type": "text"
      },
      "source": [
        "# Aula 4"
      ]
    },
    {
      "cell_type": "code",
      "metadata": {
        "id": "cXiztH7uweg5",
        "colab_type": "code",
        "colab": {}
      },
      "source": [
        "from random import randrange, seed\n"
      ],
      "execution_count": 13,
      "outputs": []
    },
    {
      "cell_type": "code",
      "metadata": {
        "id": "wYkm8bo_xgJ5",
        "colab_type": "code",
        "colab": {}
      },
      "source": [
        "seed(11)"
      ],
      "execution_count": 26,
      "outputs": []
    },
    {
      "cell_type": "code",
      "metadata": {
        "id": "zN4E4D6Twu49",
        "colab_type": "code",
        "colab": {
          "base_uri": "https://localhost:8080/",
          "height": 34
        },
        "outputId": "a4450ac2-573e-4c0d-bc69-4477a478cecd"
      },
      "source": [
        "notas_matematicas = []\n",
        "for notas in range(8):\n",
        "  notas_matematicas.append(randrange(0,11))\n",
        "notas_matematicas"
      ],
      "execution_count": 27,
      "outputs": [
        {
          "output_type": "execute_result",
          "data": {
            "text/plain": [
              "[7, 8, 7, 7, 8, 9, 3, 2]"
            ]
          },
          "metadata": {
            "tags": []
          },
          "execution_count": 27
        }
      ]
    },
    {
      "cell_type": "markdown",
      "metadata": {
        "id": "1qkr2yHX5zMe",
        "colab_type": "text"
      },
      "source": [
        "# Matplot - o negocio dos graficos\n"
      ]
    },
    {
      "cell_type": "code",
      "metadata": {
        "id": "0OLIA7n-55hP",
        "colab_type": "code",
        "colab": {
          "base_uri": "https://localhost:8080/",
          "height": 295
        },
        "outputId": "88672e00-afef-46a0-d0e8-ab08e51ce333"
      },
      "source": [
        "import matplotlib.pyplot as plt\n",
        "x = list(range(8))\n",
        "y = notas_matematicas\n",
        "plt.plot(x,y,marker='o')\n",
        "plt.title(\"Notas matemáticas\")\n",
        "plt.xlabel(\"Provas\")\n",
        "plt.ylabel(\"Notas\")\n",
        "plt.show()"
      ],
      "execution_count": 39,
      "outputs": [
        {
          "output_type": "display_data",
          "data": {
            "image/png": "[encoded data removed]",
            "text/plain": [
              "<Figure size 432x288 with 1 Axes>"
            ]
          },
          "metadata": {
            "tags": [],
            "needs_background": "light"
          }
        }
      ]
    },
    {
      "cell_type": "code",
      "metadata": {
        "id": "VF74JtTB6COG",
        "colab_type": "code",
        "colab": {}
      },
      "source": [
        ""
      ],
      "execution_count": null,
      "outputs": []
    }
  ]
}